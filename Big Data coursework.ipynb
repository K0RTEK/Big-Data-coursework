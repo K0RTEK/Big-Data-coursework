{
 "cells": [
  {
   "cell_type": "code",
   "execution_count": 299,
   "metadata": {},
   "outputs": [],
   "source": [
    "import pandas as pd\n",
    "import numpy as np\n",
    "import matplotlib.pyplot as plt\n",
    "import seaborn as sns"
   ]
  },
  {
   "cell_type": "code",
   "execution_count": 300,
   "metadata": {},
   "outputs": [],
   "source": [
    "flights_df = pd.read_csv(\"flights.csv\", low_memory=False)\n",
    "airports_df = pd.read_csv(\"airports.csv\", low_memory=False)\n",
    "airlines_df = pd.read_csv(\"airlines.csv\", low_memory=False)\n",
    "l_airport_id = pd.read_csv(\"L_AIRPORT_ID.csv\", low_memory=False)\n",
    "l_airport = pd.read_csv(\"L_AIRPORT.csv\", low_memory=False)"
   ]
  },
  {
   "attachments": {},
   "cell_type": "markdown",
   "metadata": {},
   "source": [
    "# Бизнес-анализ данных"
   ]
  },
  {
   "attachments": {},
   "cell_type": "markdown",
   "metadata": {},
   "source": [
    "## На какие месяца приходится пик перелетов и когда отмечается спад"
   ]
  },
  {
   "cell_type": "code",
   "execution_count": 301,
   "metadata": {},
   "outputs": [
    {
     "name": "stderr",
     "output_type": "stream",
     "text": [
      "C:\\Users\\grias\\AppData\\Local\\Temp\\ipykernel_13328\\439240285.py:20: SettingWithCopyWarning: \n",
      "A value is trying to be set on a copy of a slice from a DataFrame.\n",
      "Try using .loc[row_indexer,col_indexer] = value instead\n",
      "\n",
      "See the caveats in the documentation: https://pandas.pydata.org/pandas-docs/stable/user_guide/indexing.html#returning-a-view-versus-a-copy\n",
      "  flights_df_sep['MONTH'] = flights_df_sep['MONTH'].replace(idx+1, name)\n"
     ]
    },
    {
     "data": {
      "text/html": [
       "<div>\n",
       "<style scoped>\n",
       "    .dataframe tbody tr th:only-of-type {\n",
       "        vertical-align: middle;\n",
       "    }\n",
       "\n",
       "    .dataframe tbody tr th {\n",
       "        vertical-align: top;\n",
       "    }\n",
       "\n",
       "    .dataframe thead th {\n",
       "        text-align: right;\n",
       "    }\n",
       "</style>\n",
       "<table border=\"1\" class=\"dataframe\">\n",
       "  <thead>\n",
       "    <tr style=\"text-align: right;\">\n",
       "      <th></th>\n",
       "      <th>MONTH</th>\n",
       "      <th>FLIGHT_NUMBER</th>\n",
       "    </tr>\n",
       "  </thead>\n",
       "  <tbody>\n",
       "    <tr>\n",
       "      <th>0</th>\n",
       "      <td>Janauary</td>\n",
       "      <td>469968</td>\n",
       "    </tr>\n",
       "    <tr>\n",
       "      <th>1</th>\n",
       "      <td>February</td>\n",
       "      <td>429191</td>\n",
       "    </tr>\n",
       "    <tr>\n",
       "      <th>2</th>\n",
       "      <td>March</td>\n",
       "      <td>504312</td>\n",
       "    </tr>\n",
       "    <tr>\n",
       "      <th>3</th>\n",
       "      <td>April</td>\n",
       "      <td>485151</td>\n",
       "    </tr>\n",
       "    <tr>\n",
       "      <th>4</th>\n",
       "      <td>May</td>\n",
       "      <td>496993</td>\n",
       "    </tr>\n",
       "    <tr>\n",
       "      <th>5</th>\n",
       "      <td>June</td>\n",
       "      <td>503897</td>\n",
       "    </tr>\n",
       "    <tr>\n",
       "      <th>6</th>\n",
       "      <td>July</td>\n",
       "      <td>520718</td>\n",
       "    </tr>\n",
       "    <tr>\n",
       "      <th>7</th>\n",
       "      <td>August</td>\n",
       "      <td>510536</td>\n",
       "    </tr>\n",
       "    <tr>\n",
       "      <th>8</th>\n",
       "      <td>September</td>\n",
       "      <td>464946</td>\n",
       "    </tr>\n",
       "    <tr>\n",
       "      <th>9</th>\n",
       "      <td>October</td>\n",
       "      <td>486165</td>\n",
       "    </tr>\n",
       "    <tr>\n",
       "      <th>10</th>\n",
       "      <td>November</td>\n",
       "      <td>467972</td>\n",
       "    </tr>\n",
       "    <tr>\n",
       "      <th>11</th>\n",
       "      <td>December</td>\n",
       "      <td>479230</td>\n",
       "    </tr>\n",
       "  </tbody>\n",
       "</table>\n",
       "</div>"
      ],
      "text/plain": [
       "        MONTH  FLIGHT_NUMBER\n",
       "0    Janauary         469968\n",
       "1    February         429191\n",
       "2       March         504312\n",
       "3       April         485151\n",
       "4         May         496993\n",
       "5        June         503897\n",
       "6        July         520718\n",
       "7      August         510536\n",
       "8   September         464946\n",
       "9     October         486165\n",
       "10   November         467972\n",
       "11   December         479230"
      ]
     },
     "execution_count": 301,
     "metadata": {},
     "output_type": "execute_result"
    }
   ],
   "source": [
    "# выбор необходимых нам столбцов\n",
    "flights_df_sep = flights_df[['MONTH', 'FLIGHT_NUMBER']]\n",
    "\n",
    "# словарь с названиями месяцев\n",
    "month = {'01': 'Janauary',\n",
    "         '02': 'February',\n",
    "         '03': 'March',\n",
    "         '04': 'April',\n",
    "         '05': 'May',\n",
    "         '06': 'June',\n",
    "         '07': 'July',\n",
    "         '08': 'August',\n",
    "         '09': 'September',\n",
    "         '10': 'October',\n",
    "         '11': 'November',\n",
    "         '12': 'December'}\n",
    "\n",
    "for idx, name in enumerate([i for i in month.values()]):\n",
    "    # замена чисел на их названия\n",
    "    flights_df_sep['MONTH'] = flights_df_sep['MONTH'].replace(idx+1, name)\n",
    "\n",
    "# Группировка по полетам\n",
    "grouped_flights_df = flights_df_sep.groupby(\"MONTH\")[\"FLIGHT_NUMBER\"].count()\n",
    "grouped_flights_df = grouped_flights_df.rename_axis(\"MONTH\").reset_index()\n",
    "\n",
    "# Подготовка к сортировке по месяцам\n",
    "grouped_flights_df['MONTH'] = pd.Categorical(grouped_flights_df['MONTH'], categories=[\n",
    "                                             i for i in month.values()], ordered=True)\n",
    "\n",
    "# Сортировка по месяцам и ресет индексов\n",
    "grouped_flights_df = grouped_flights_df.sort_values(by='MONTH')\n",
    "grouped_flights_df = grouped_flights_df.reset_index(drop=True)\n",
    "\n",
    "grouped_flights_df\n"
   ]
  },
  {
   "cell_type": "code",
   "execution_count": 302,
   "metadata": {},
   "outputs": [
    {
     "name": "stderr",
     "output_type": "stream",
     "text": [
      "C:\\Users\\grias\\AppData\\Local\\Temp\\ipykernel_13328\\439240285.py:20: SettingWithCopyWarning: \n",
      "A value is trying to be set on a copy of a slice from a DataFrame.\n",
      "Try using .loc[row_indexer,col_indexer] = value instead\n",
      "\n",
      "See the caveats in the documentation: https://pandas.pydata.org/pandas-docs/stable/user_guide/indexing.html#returning-a-view-versus-a-copy\n",
      "  flights_df_sep['MONTH'] = flights_df_sep['MONTH'].replace(idx+1, name)\n"
     ]
    },
    {
     "data": {
      "text/html": [
       "<div>\n",
       "<style scoped>\n",
       "    .dataframe tbody tr th:only-of-type {\n",
       "        vertical-align: middle;\n",
       "    }\n",
       "\n",
       "    .dataframe tbody tr th {\n",
       "        vertical-align: top;\n",
       "    }\n",
       "\n",
       "    .dataframe thead th {\n",
       "        text-align: right;\n",
       "    }\n",
       "</style>\n",
       "<table border=\"1\" class=\"dataframe\">\n",
       "  <thead>\n",
       "    <tr style=\"text-align: right;\">\n",
       "      <th></th>\n",
       "      <th>MONTH</th>\n",
       "      <th>FLIGHT_NUMBER</th>\n",
       "    </tr>\n",
       "  </thead>\n",
       "  <tbody>\n",
       "    <tr>\n",
       "      <th>0</th>\n",
       "      <td>Janauary</td>\n",
       "      <td>469968</td>\n",
       "    </tr>\n",
       "    <tr>\n",
       "      <th>1</th>\n",
       "      <td>February</td>\n",
       "      <td>429191</td>\n",
       "    </tr>\n",
       "    <tr>\n",
       "      <th>2</th>\n",
       "      <td>March</td>\n",
       "      <td>504312</td>\n",
       "    </tr>\n",
       "    <tr>\n",
       "      <th>3</th>\n",
       "      <td>April</td>\n",
       "      <td>485151</td>\n",
       "    </tr>\n",
       "    <tr>\n",
       "      <th>4</th>\n",
       "      <td>May</td>\n",
       "      <td>496993</td>\n",
       "    </tr>\n",
       "    <tr>\n",
       "      <th>5</th>\n",
       "      <td>June</td>\n",
       "      <td>503897</td>\n",
       "    </tr>\n",
       "    <tr>\n",
       "      <th>6</th>\n",
       "      <td>July</td>\n",
       "      <td>520718</td>\n",
       "    </tr>\n",
       "    <tr>\n",
       "      <th>7</th>\n",
       "      <td>August</td>\n",
       "      <td>510536</td>\n",
       "    </tr>\n",
       "    <tr>\n",
       "      <th>8</th>\n",
       "      <td>September</td>\n",
       "      <td>464946</td>\n",
       "    </tr>\n",
       "    <tr>\n",
       "      <th>9</th>\n",
       "      <td>October</td>\n",
       "      <td>486165</td>\n",
       "    </tr>\n",
       "    <tr>\n",
       "      <th>10</th>\n",
       "      <td>November</td>\n",
       "      <td>467972</td>\n",
       "    </tr>\n",
       "    <tr>\n",
       "      <th>11</th>\n",
       "      <td>December</td>\n",
       "      <td>479230</td>\n",
       "    </tr>\n",
       "  </tbody>\n",
       "</table>\n",
       "</div>"
      ],
      "text/plain": [
       "        MONTH  FLIGHT_NUMBER\n",
       "0    Janauary         469968\n",
       "1    February         429191\n",
       "2       March         504312\n",
       "3       April         485151\n",
       "4         May         496993\n",
       "5        June         503897\n",
       "6        July         520718\n",
       "7      August         510536\n",
       "8   September         464946\n",
       "9     October         486165\n",
       "10   November         467972\n",
       "11   December         479230"
      ]
     },
     "execution_count": 302,
     "metadata": {},
     "output_type": "execute_result"
    }
   ],
   "source": [
    "# выбор необходимых нам столбцов\n",
    "flights_df_sep = flights_df[['MONTH', 'FLIGHT_NUMBER']]\n",
    "\n",
    "# словарь с названиями месяцев\n",
    "month = {'01': 'Janauary',\n",
    "         '02': 'February',\n",
    "         '03': 'March',\n",
    "         '04': 'April',\n",
    "         '05': 'May',\n",
    "         '06': 'June',\n",
    "         '07': 'July',\n",
    "         '08': 'August',\n",
    "         '09': 'September',\n",
    "         '10': 'October',\n",
    "         '11': 'November',\n",
    "         '12': 'December'}\n",
    "\n",
    "for idx, name in enumerate([i for i in month.values()]):\n",
    "    # замена чисел на их названия\n",
    "    flights_df_sep['MONTH'] = flights_df_sep['MONTH'].replace(idx+1, name)\n",
    "\n",
    "# Группировка по полетам\n",
    "grouped_flights_df = flights_df_sep.groupby(\"MONTH\")[\"FLIGHT_NUMBER\"].count()\n",
    "grouped_flights_df = grouped_flights_df.rename_axis(\"MONTH\").reset_index()\n",
    "\n",
    "# Подготовка к сортировке по месяцам\n",
    "grouped_flights_df['MONTH'] = pd.Categorical(grouped_flights_df['MONTH'], categories=[\n",
    "                                             i for i in month.values()], ordered=True)\n",
    "\n",
    "# Сортировка по месяцам и ресет индексов\n",
    "grouped_flights_df = grouped_flights_df.sort_values(by='MONTH')\n",
    "grouped_flights_df = grouped_flights_df.reset_index(drop=True)\n",
    "\n",
    "grouped_flights_df\n"
   ]
  },
  {
   "cell_type": "code",
   "execution_count": 303,
   "metadata": {},
   "outputs": [
    {
     "data": {
      "image/png": "[encoded data removed]",
      "text/plain": [
       "<Figure size 1600x640 with 1 Axes>"
      ]
     },
     "metadata": {},
     "output_type": "display_data"
    }
   ],
   "source": [
    "plt.figure(figsize=(20, 8), dpi=80)\n",
    "plt.plot(grouped_flights_df['MONTH'],\n",
    "         grouped_flights_df['FLIGHT_NUMBER'], linewidth=3)\n",
    "plt.xlabel('Месяцы', fontsize=16)\n",
    "plt.ylabel('Количество рейсов', fontsize=16)\n",
    "plt.rcParams.update({'font.size': 12})\n"
   ]
  },
  {
   "attachments": {},
   "cell_type": "markdown",
   "metadata": {},
   "source": [
    "## Как распределено количество рейсов по дням недели в целом"
   ]
  },
  {
   "cell_type": "code",
   "execution_count": 304,
   "metadata": {},
   "outputs": [
    {
     "name": "stderr",
     "output_type": "stream",
     "text": [
      "C:\\Users\\grias\\AppData\\Local\\Temp\\ipykernel_13328\\2957781046.py:14: SettingWithCopyWarning: \n",
      "A value is trying to be set on a copy of a slice from a DataFrame.\n",
      "Try using .loc[row_indexer,col_indexer] = value instead\n",
      "\n",
      "See the caveats in the documentation: https://pandas.pydata.org/pandas-docs/stable/user_guide/indexing.html#returning-a-view-versus-a-copy\n",
      "  flights_df_sep['DAY_OF_WEEK'] = flights_df_sep['DAY_OF_WEEK'].replace(\n"
     ]
    },
    {
     "data": {
      "text/html": [
       "<div>\n",
       "<style scoped>\n",
       "    .dataframe tbody tr th:only-of-type {\n",
       "        vertical-align: middle;\n",
       "    }\n",
       "\n",
       "    .dataframe tbody tr th {\n",
       "        vertical-align: top;\n",
       "    }\n",
       "\n",
       "    .dataframe thead th {\n",
       "        text-align: right;\n",
       "    }\n",
       "</style>\n",
       "<table border=\"1\" class=\"dataframe\">\n",
       "  <thead>\n",
       "    <tr style=\"text-align: right;\">\n",
       "      <th></th>\n",
       "      <th>DAY_OF_WEEK</th>\n",
       "      <th>FLIGHT_NUMBER</th>\n",
       "    </tr>\n",
       "  </thead>\n",
       "  <tbody>\n",
       "    <tr>\n",
       "      <th>0</th>\n",
       "      <td>Monday</td>\n",
       "      <td>865543</td>\n",
       "    </tr>\n",
       "    <tr>\n",
       "      <th>1</th>\n",
       "      <td>Tuesday</td>\n",
       "      <td>844600</td>\n",
       "    </tr>\n",
       "    <tr>\n",
       "      <th>2</th>\n",
       "      <td>Wednesday</td>\n",
       "      <td>855897</td>\n",
       "    </tr>\n",
       "    <tr>\n",
       "      <th>3</th>\n",
       "      <td>Thursday</td>\n",
       "      <td>872521</td>\n",
       "    </tr>\n",
       "    <tr>\n",
       "      <th>4</th>\n",
       "      <td>Friday</td>\n",
       "      <td>862209</td>\n",
       "    </tr>\n",
       "    <tr>\n",
       "      <th>5</th>\n",
       "      <td>Saturday</td>\n",
       "      <td>700545</td>\n",
       "    </tr>\n",
       "    <tr>\n",
       "      <th>6</th>\n",
       "      <td>Sunday</td>\n",
       "      <td>817764</td>\n",
       "    </tr>\n",
       "  </tbody>\n",
       "</table>\n",
       "</div>"
      ],
      "text/plain": [
       "  DAY_OF_WEEK  FLIGHT_NUMBER\n",
       "0      Monday         865543\n",
       "1     Tuesday         844600\n",
       "2   Wednesday         855897\n",
       "3    Thursday         872521\n",
       "4      Friday         862209\n",
       "5    Saturday         700545\n",
       "6      Sunday         817764"
      ]
     },
     "execution_count": 304,
     "metadata": {},
     "output_type": "execute_result"
    }
   ],
   "source": [
    "# выбор необходимых нам столбцов\n",
    "flights_df_sep = flights_df[['DAY_OF_WEEK', 'FLIGHT_NUMBER']]\n",
    "\n",
    "days_of_week = {'01': 'Monday',\n",
    "                '02': 'Tuesday',\n",
    "                '03': 'Wednesday',\n",
    "                '04': 'Thursday',\n",
    "                '05': 'Friday',\n",
    "                '06': 'Saturday',\n",
    "                '07': 'Sunday', }\n",
    "\n",
    "for idx, name in enumerate([i for i in days_of_week.values()]):\n",
    "    # замена чисел на их названия\n",
    "    flights_df_sep['DAY_OF_WEEK'] = flights_df_sep['DAY_OF_WEEK'].replace(\n",
    "        idx+1, name)\n",
    "\n",
    "# Группировка по полетам\n",
    "grouped_flights_df = flights_df_sep.groupby(\n",
    "    \"DAY_OF_WEEK\")[\"FLIGHT_NUMBER\"].count()\n",
    "grouped_flights_df = grouped_flights_df.rename_axis(\n",
    "    \"DAY_OF_WEEK\").reset_index()\n",
    "\n",
    "# Подготовка к сортировке по дням недели\n",
    "grouped_flights_df['DAY_OF_WEEK'] = pd.Categorical(grouped_flights_df['DAY_OF_WEEK'], categories=[\n",
    "    i for i in days_of_week.values()], ordered=True)\n",
    "\n",
    "# Сортировка по дням недели и ресет индексов\n",
    "grouped_flights_df = grouped_flights_df.sort_values(by='DAY_OF_WEEK')\n",
    "grouped_flights_df = grouped_flights_df.reset_index(drop=True)\n",
    "\n",
    "grouped_flights_df"
   ]
  },
  {
   "cell_type": "code",
   "execution_count": 305,
   "metadata": {},
   "outputs": [
    {
     "data": {
      "image/png": "[encoded data removed]",
      "text/plain": [
       "<Figure size 1600x640 with 1 Axes>"
      ]
     },
     "metadata": {},
     "output_type": "display_data"
    }
   ],
   "source": [
    "plt.figure(figsize=(20, 8), dpi=80)\n",
    "sns.barplot(x=grouped_flights_df['DAY_OF_WEEK'],\n",
    "            y=grouped_flights_df['FLIGHT_NUMBER'], color=\"lightblue\", edgecolor='black')\n",
    "plt.xlabel('День недели', fontsize=16)\n",
    "plt.ylabel('Количество рейсов', fontsize=16)\n",
    "plt.show()"
   ]
  },
  {
   "attachments": {},
   "cell_type": "markdown",
   "metadata": {},
   "source": [
    "## Топ 10 городов по количеству рейсов"
   ]
  },
  {
   "cell_type": "code",
   "execution_count": 306,
   "metadata": {},
   "outputs": [],
   "source": [
    "airports_df.rename(columns={'IATA_CODE': 'id'}, inplace=True)\n",
    "flights_df.rename(columns={'ORIGIN_AIRPORT': 'id'}, inplace=True)\n",
    "joined_flights_airlines = pd.merge(flights_df, airports_df, on = 'id', how = 'inner')"
   ]
  },
  {
   "cell_type": "code",
   "execution_count": 307,
   "metadata": {},
   "outputs": [
    {
     "data": {
      "text/html": [
       "<div>\n",
       "<style scoped>\n",
       "    .dataframe tbody tr th:only-of-type {\n",
       "        vertical-align: middle;\n",
       "    }\n",
       "\n",
       "    .dataframe tbody tr th {\n",
       "        vertical-align: top;\n",
       "    }\n",
       "\n",
       "    .dataframe thead th {\n",
       "        text-align: right;\n",
       "    }\n",
       "</style>\n",
       "<table border=\"1\" class=\"dataframe\">\n",
       "  <thead>\n",
       "    <tr style=\"text-align: right;\">\n",
       "      <th></th>\n",
       "      <th>CITY</th>\n",
       "      <th>FLIGHT_NUMBER</th>\n",
       "    </tr>\n",
       "  </thead>\n",
       "  <tbody>\n",
       "    <tr>\n",
       "      <th>0</th>\n",
       "      <td>Chicago</td>\n",
       "      <td>366770</td>\n",
       "    </tr>\n",
       "    <tr>\n",
       "      <th>1</th>\n",
       "      <td>Atlanta</td>\n",
       "      <td>346836</td>\n",
       "    </tr>\n",
       "    <tr>\n",
       "      <th>2</th>\n",
       "      <td>Dallas-Fort Worth</td>\n",
       "      <td>239551</td>\n",
       "    </tr>\n",
       "    <tr>\n",
       "      <th>3</th>\n",
       "      <td>Houston</td>\n",
       "      <td>198664</td>\n",
       "    </tr>\n",
       "    <tr>\n",
       "      <th>4</th>\n",
       "      <td>Denver</td>\n",
       "      <td>196055</td>\n",
       "    </tr>\n",
       "    <tr>\n",
       "      <th>5</th>\n",
       "      <td>Los Angeles</td>\n",
       "      <td>194673</td>\n",
       "    </tr>\n",
       "    <tr>\n",
       "      <th>6</th>\n",
       "      <td>New York</td>\n",
       "      <td>193416</td>\n",
       "    </tr>\n",
       "    <tr>\n",
       "      <th>7</th>\n",
       "      <td>San Francisco</td>\n",
       "      <td>148008</td>\n",
       "    </tr>\n",
       "    <tr>\n",
       "      <th>8</th>\n",
       "      <td>Phoenix</td>\n",
       "      <td>146815</td>\n",
       "    </tr>\n",
       "    <tr>\n",
       "      <th>9</th>\n",
       "      <td>Las Vegas</td>\n",
       "      <td>133181</td>\n",
       "    </tr>\n",
       "  </tbody>\n",
       "</table>\n",
       "</div>"
      ],
      "text/plain": [
       "                CITY  FLIGHT_NUMBER\n",
       "0            Chicago         366770\n",
       "1            Atlanta         346836\n",
       "2  Dallas-Fort Worth         239551\n",
       "3            Houston         198664\n",
       "4             Denver         196055\n",
       "5        Los Angeles         194673\n",
       "6           New York         193416\n",
       "7      San Francisco         148008\n",
       "8            Phoenix         146815\n",
       "9          Las Vegas         133181"
      ]
     },
     "execution_count": 307,
     "metadata": {},
     "output_type": "execute_result"
    }
   ],
   "source": [
    "joined_flights_airlines = joined_flights_airlines[[\"CITY\", \"FLIGHT_NUMBER\"]]\n",
    "\n",
    "joined_flights_airlines_sep = joined_flights_airlines[['CITY',\"FLIGHT_NUMBER\"]]\n",
    "\n",
    "grouped_joined_flights_airlines = joined_flights_airlines_sep.groupby(\"CITY\")[\"FLIGHT_NUMBER\"].count()\n",
    "grouped_joined_flights_airlines = grouped_joined_flights_airlines.rename_axis(\"CITY\").reset_index()\n",
    "\n",
    "grouped_joined_flights_airlines = grouped_joined_flights_airlines.sort_values(by='FLIGHT_NUMBER',ascending=False).head(10)\n",
    "grouped_joined_flights_airlines = grouped_joined_flights_airlines.reset_index(drop=True)\n",
    "\n",
    "grouped_joined_flights_airlines"
   ]
  },
  {
   "cell_type": "code",
   "execution_count": 308,
   "metadata": {},
   "outputs": [
    {
     "data": {
      "image/png": "[encoded data removed]",
      "text/plain": [
       "<Figure size 1600x640 with 1 Axes>"
      ]
     },
     "metadata": {},
     "output_type": "display_data"
    }
   ],
   "source": [
    "plt.figure(figsize=(20, 8), dpi=80)\n",
    "sns.barplot(x=grouped_joined_flights_airlines['CITY'],\n",
    "            y=grouped_joined_flights_airlines['FLIGHT_NUMBER'], color=\"lightblue\", edgecolor='black')\n",
    "plt.xlabel('Город', fontsize=16)\n",
    "plt.ylabel('Количество рейсов', fontsize=16)\n",
    "plt.show()"
   ]
  },
  {
   "attachments": {},
   "cell_type": "markdown",
   "metadata": {},
   "source": [
    "## Топ 10 авиакомпаний по количеству рейсов"
   ]
  },
  {
   "cell_type": "code",
   "execution_count": 309,
   "metadata": {},
   "outputs": [],
   "source": [
    "flights_df.rename(columns = {'AIRLINE':'IATA_CODE'}, inplace=True)\n",
    "joined_flights_airlines = pd.merge(flights_df, airlines_df, on = 'IATA_CODE', how = 'inner')"
   ]
  },
  {
   "cell_type": "code",
   "execution_count": 310,
   "metadata": {},
   "outputs": [
    {
     "data": {
      "text/html": [
       "<div>\n",
       "<style scoped>\n",
       "    .dataframe tbody tr th:only-of-type {\n",
       "        vertical-align: middle;\n",
       "    }\n",
       "\n",
       "    .dataframe tbody tr th {\n",
       "        vertical-align: top;\n",
       "    }\n",
       "\n",
       "    .dataframe thead th {\n",
       "        text-align: right;\n",
       "    }\n",
       "</style>\n",
       "<table border=\"1\" class=\"dataframe\">\n",
       "  <thead>\n",
       "    <tr style=\"text-align: right;\">\n",
       "      <th></th>\n",
       "      <th>AIRLINE</th>\n",
       "      <th>FLIGHT_NUMBER</th>\n",
       "    </tr>\n",
       "  </thead>\n",
       "  <tbody>\n",
       "    <tr>\n",
       "      <th>0</th>\n",
       "      <td>Southwest Airlines Co.</td>\n",
       "      <td>1261855</td>\n",
       "    </tr>\n",
       "    <tr>\n",
       "      <th>1</th>\n",
       "      <td>Delta Air Lines Inc.</td>\n",
       "      <td>875881</td>\n",
       "    </tr>\n",
       "    <tr>\n",
       "      <th>2</th>\n",
       "      <td>American Airlines Inc.</td>\n",
       "      <td>725984</td>\n",
       "    </tr>\n",
       "    <tr>\n",
       "      <th>3</th>\n",
       "      <td>Skywest Airlines Inc.</td>\n",
       "      <td>588353</td>\n",
       "    </tr>\n",
       "    <tr>\n",
       "      <th>4</th>\n",
       "      <td>Atlantic Southeast Airlines</td>\n",
       "      <td>571977</td>\n",
       "    </tr>\n",
       "    <tr>\n",
       "      <th>5</th>\n",
       "      <td>United Air Lines Inc.</td>\n",
       "      <td>515723</td>\n",
       "    </tr>\n",
       "    <tr>\n",
       "      <th>6</th>\n",
       "      <td>American Eagle Airlines Inc.</td>\n",
       "      <td>294632</td>\n",
       "    </tr>\n",
       "    <tr>\n",
       "      <th>7</th>\n",
       "      <td>JetBlue Airways</td>\n",
       "      <td>267048</td>\n",
       "    </tr>\n",
       "    <tr>\n",
       "      <th>8</th>\n",
       "      <td>US Airways Inc.</td>\n",
       "      <td>198715</td>\n",
       "    </tr>\n",
       "    <tr>\n",
       "      <th>9</th>\n",
       "      <td>Alaska Airlines Inc.</td>\n",
       "      <td>172521</td>\n",
       "    </tr>\n",
       "  </tbody>\n",
       "</table>\n",
       "</div>"
      ],
      "text/plain": [
       "                        AIRLINE  FLIGHT_NUMBER\n",
       "0        Southwest Airlines Co.        1261855\n",
       "1          Delta Air Lines Inc.         875881\n",
       "2        American Airlines Inc.         725984\n",
       "3         Skywest Airlines Inc.         588353\n",
       "4   Atlantic Southeast Airlines         571977\n",
       "5         United Air Lines Inc.         515723\n",
       "6  American Eagle Airlines Inc.         294632\n",
       "7               JetBlue Airways         267048\n",
       "8               US Airways Inc.         198715\n",
       "9          Alaska Airlines Inc.         172521"
      ]
     },
     "execution_count": 310,
     "metadata": {},
     "output_type": "execute_result"
    }
   ],
   "source": [
    "joined_flights_airlines_sep = joined_flights_airlines[['AIRLINE',\"FLIGHT_NUMBER\"]]\n",
    "\n",
    "grouped_joined_flights_airlines = joined_flights_airlines_sep.groupby(\"AIRLINE\")[\"FLIGHT_NUMBER\"].count()\n",
    "grouped_joined_flights_airlines = grouped_joined_flights_airlines.rename_axis(\"AIRLINE\").reset_index()\n",
    "\n",
    "grouped_joined_flights_airlines = grouped_joined_flights_airlines.sort_values(by='FLIGHT_NUMBER',ascending=False).head(10)\n",
    "grouped_joined_flights_airlines = grouped_joined_flights_airlines.reset_index(drop=True)\n",
    "\n",
    "grouped_joined_flights_airlines"
   ]
  },
  {
   "cell_type": "code",
   "execution_count": 311,
   "metadata": {},
   "outputs": [
    {
     "data": {
      "image/png": "[encoded data removed]",
      "text/plain": [
       "<Figure size 2240x640 with 1 Axes>"
      ]
     },
     "metadata": {},
     "output_type": "display_data"
    }
   ],
   "source": [
    "plt.figure(figsize=(28, 8), dpi=80)\n",
    "sns.barplot(x=grouped_joined_flights_airlines['AIRLINE'],\n",
    "            y=grouped_joined_flights_airlines['FLIGHT_NUMBER'], color=\"lightblue\", edgecolor='black')\n",
    "plt.xlabel('День недели', fontsize=16)\n",
    "plt.ylabel('Количество рейсов', fontsize=16)\n",
    "plt.show()"
   ]
  },
  {
   "attachments": {},
   "cell_type": "markdown",
   "metadata": {},
   "source": [
    "# Исследование данных"
   ]
  },
  {
   "attachments": {},
   "cell_type": "markdown",
   "metadata": {},
   "source": [
    "## Найти аэропорт с минимальной задержкой вылета"
   ]
  },
  {
   "cell_type": "code",
   "execution_count": 312,
   "metadata": {},
   "outputs": [],
   "source": [
    "flights_df = pd.read_csv(\"flights.csv\", low_memory=False)\n",
    "airports_df = pd.read_csv(\"airports.csv\", low_memory=False)\n",
    "\n",
    "flights_df.rename(columns={'ORIGIN_AIRPORT': 'name'}, inplace=True)\n",
    "airports_df.rename(columns = {'IATA_CODE': 'name'}, inplace=True)"
   ]
  },
  {
   "cell_type": "code",
   "execution_count": 313,
   "metadata": {},
   "outputs": [],
   "source": [
    "joined_flights_airports=pd.merge(flights_df, airports_df, on = 'name', how = 'inner')\n",
    "joined_flights_airports_sep=joined_flights_airports[[\"AIRPORT\", \"DEPARTURE_DELAY\"]]\n",
    "\n",
    "joined_flights_airports_sep=joined_flights_airports_sep.dropna()"
   ]
  },
  {
   "cell_type": "code",
   "execution_count": 314,
   "metadata": {},
   "outputs": [
    {
     "name": "stdout",
     "output_type": "stream",
     "text": [
      "Аэропорт с самой минимальной задержкой вылета: Yakutat Airport \n",
      "Средняя задержка вылета равняется: -6.292237442922374\n"
     ]
    }
   ],
   "source": [
    "grouped_joined_flights_airports = joined_flights_airports_sep.groupby(\"AIRPORT\")[\"DEPARTURE_DELAY\"].mean()\n",
    "grouped_joined_flights_airports = grouped_joined_flights_airports.rename_axis(\"AIRPORT\").reset_index()\n",
    "\n",
    "grouped_joined_flights_airports = grouped_joined_flights_airports.sort_values(by='DEPARTURE_DELAY',ascending=True)\n",
    "grouped_joined_flights_airports = grouped_joined_flights_airports.reset_index(drop=True)\n",
    "\n",
    "airport_name = grouped_joined_flights_airports['AIRPORT'][0]\n",
    "airport_delay = grouped_joined_flights_airports['DEPARTURE_DELAY'][0]\n",
    "\n",
    "print(f\"Аэропорт с самой минимальной задержкой вылета: {airport_name} \\nСредняя задержка вылета равняется: {airport_delay}\")"
   ]
  },
  {
   "attachments": {},
   "cell_type": "markdown",
   "metadata": {},
   "source": [
    "## Выявить самую пунктуальную авиакомпанию на прилет в *"
   ]
  },
  {
   "cell_type": "code",
   "execution_count": 315,
   "metadata": {},
   "outputs": [],
   "source": [
    "flights_df = pd.read_csv(\"flights.csv\", low_memory=False)\n",
    "airlines_df = pd.read_csv(\"airlines.csv\", low_memory=False)\n",
    "\n",
    "flights_df.rename(columns = {'AIRLINE':'id'}, inplace=True)\n",
    "airlines_df.rename(columns = {'IATA_CODE':'id'}, inplace=True)"
   ]
  },
  {
   "cell_type": "code",
   "execution_count": 316,
   "metadata": {},
   "outputs": [
    {
     "data": {
      "text/plain": [
       "216    MSP\n",
       "Name: IATA_CODE, dtype: object"
      ]
     },
     "execution_count": 316,
     "metadata": {},
     "output_type": "execute_result"
    }
   ],
   "source": [
    "airports_df = pd.read_csv(\"airports.csv\", low_memory=False)\n",
    "airports_df['IATA_CODE'][airports_df.index==216]"
   ]
  },
  {
   "cell_type": "code",
   "execution_count": 317,
   "metadata": {},
   "outputs": [
    {
     "name": "stderr",
     "output_type": "stream",
     "text": [
      "C:\\Users\\grias\\AppData\\Local\\Temp\\ipykernel_13328\\996730533.py:3: SettingWithCopyWarning: \n",
      "A value is trying to be set on a copy of a slice from a DataFrame\n",
      "\n",
      "See the caveats in the documentation: https://pandas.pydata.org/pandas-docs/stable/user_guide/indexing.html#returning-a-view-versus-a-copy\n",
      "  joined_flights_airports_sep.rename(columns = {'DESTINATION_AIRPORT':'IATA_CODE'}, inplace=True)\n"
     ]
    }
   ],
   "source": [
    "joined_flights_airports = pd.merge(flights_df, airlines_df, on = 'id', how = 'inner')\n",
    "joined_flights_airports_sep = joined_flights_airports[[\"id\", \"FLIGHT_NUMBER\", \"ARRIVAL_DELAY\", \"DESTINATION_AIRPORT\", \"AIRLINE\"]]\n",
    "joined_flights_airports_sep.rename(columns = {'DESTINATION_AIRPORT':'IATA_CODE'}, inplace=True)\n",
    "\n",
    "airports_df = pd.read_csv(\"airports.csv\")\n",
    "\n",
    "joined_flights_airports_sep = pd.merge(joined_flights_airports_sep, airports_df, on = 'IATA_CODE', how = 'inner')\n",
    "joined_flights_airports_sep = joined_flights_airports_sep[[\"FLIGHT_NUMBER\", \"IATA_CODE\", \"AIRPORT\", \"ARRIVAL_DELAY\", \"AIRLINE\"]]\n",
    "\n",
    "joined_flights_airports_sep = joined_flights_airports_sep[joined_flights_airports_sep[\"IATA_CODE\"] == \"MSP\"]\n",
    "joined_flights_airports_sep.rename(columns = {'ARRIVAL_DELAY':'DELAY'}, inplace=True )"
   ]
  },
  {
   "cell_type": "code",
   "execution_count": 318,
   "metadata": {},
   "outputs": [
    {
     "name": "stdout",
     "output_type": "stream",
     "text": [
      "Аэропорт с самой минимальной задержкой прилета в MSP: Alaska Airlines Inc. \n",
      "Средняя задержка прилета равняется: -0.4658703071672355\n"
     ]
    }
   ],
   "source": [
    "grouped_joined_flights_airports = joined_flights_airports_sep.groupby(\"AIRLINE\")[\"DELAY\"].mean()\n",
    "grouped_joined_flights_airports = grouped_joined_flights_airports.rename_axis(\"AIRPORT\").reset_index()\n",
    "\n",
    "grouped_joined_flights_airports = grouped_joined_flights_airports.sort_values(by='DELAY',ascending=True)\n",
    "grouped_joined_flights_airports = grouped_joined_flights_airports.reset_index(drop=True)\n",
    "\n",
    "airport_name = grouped_joined_flights_airports['AIRPORT'][0]\n",
    "airport_delay = grouped_joined_flights_airports['DELAY'][0]\n",
    "\n",
    "print(f\"Аэропорт с самой минимальной задержкой прилета в MSP: {airport_name} \\nСредняя задержка прилета равняется: {airport_delay}\")"
   ]
  },
  {
   "attachments": {},
   "cell_type": "markdown",
   "metadata": {},
   "source": [
    "## Найти аэропорт, где самолеты проводят в среднем больше всего времени на рулении"
   ]
  },
  {
   "cell_type": "code",
   "execution_count": 319,
   "metadata": {},
   "outputs": [],
   "source": [
    "flights_df = pd.read_csv(\"flights.csv\", low_memory=False)\n",
    "airports_df = pd.read_csv(\"airports.csv\", low_memory=False)\n",
    "\n",
    "flights_df.rename(columns = {'ORIGIN_AIRPORT':'id'}, inplace=True) \n",
    "airports_df.rename(columns = {'IATA_CODE':'id'}, inplace=True) "
   ]
  },
  {
   "cell_type": "code",
   "execution_count": 320,
   "metadata": {},
   "outputs": [],
   "source": [
    "joined_flights_airports = pd.merge(flights_df, airports_df, on = 'id', how = 'inner')\n",
    "joined_flights_airports_sep = joined_flights_airports[[\"id\", \"AIRPORT\", \"TAXI_OUT\"]]"
   ]
  },
  {
   "cell_type": "code",
   "execution_count": 321,
   "metadata": {},
   "outputs": [],
   "source": [
    "grouped_joined_flights_airports = joined_flights_airports_sep.groupby(\"AIRPORT\")[\"TAXI_OUT\"].mean()\n",
    "grouped_joined_flights_airports = grouped_joined_flights_airports.rename_axis(\"AIRPORT\").reset_index()\n",
    "\n",
    "grouped_joined_flights_airports.columns=grouped_joined_flights_airports.columns.str.replace('TAXI_OUT','TAXI_OUT_mean')"
   ]
  },
  {
   "cell_type": "code",
   "execution_count": 322,
   "metadata": {},
   "outputs": [],
   "source": [
    "flights_df = pd.read_csv(\"flights.csv\", low_memory=False)\n",
    "airports_df = pd.read_csv(\"airports.csv\", low_memory=False)\n",
    "\n",
    "flights_df.rename(columns = {'DESTINATION_AIRPORT':'id'}, inplace=True) \n",
    "airports_df.rename(columns = {'IATA_CODE':'id'}, inplace=True) "
   ]
  },
  {
   "cell_type": "code",
   "execution_count": 323,
   "metadata": {},
   "outputs": [],
   "source": [
    "joined_flights_airports = pd.merge(flights_df, airports_df, on = 'id', how = 'inner')\n",
    "joined_flights_airports_sep = joined_flights_airports[[\"id\", \"AIRPORT\", \"TAXI_OUT\"]]"
   ]
  },
  {
   "cell_type": "code",
   "execution_count": 324,
   "metadata": {},
   "outputs": [],
   "source": [
    "grouped_joined_flights_airports2 = joined_flights_airports_sep.groupby(\"AIRPORT\")[\"TAXI_OUT\"].mean()\n",
    "grouped_joined_flights_airports2 = grouped_joined_flights_airports2.rename_axis(\"AIRPORT\").reset_index()\n",
    "\n",
    "grouped_joined_flights_airports2.columns = grouped_joined_flights_airports2.columns.str.replace('TAXI_OUT','TAXI_IN_mean')"
   ]
  },
  {
   "cell_type": "code",
   "execution_count": 325,
   "metadata": {},
   "outputs": [
    {
     "data": {
      "text/html": [
       "<div>\n",
       "<style scoped>\n",
       "    .dataframe tbody tr th:only-of-type {\n",
       "        vertical-align: middle;\n",
       "    }\n",
       "\n",
       "    .dataframe tbody tr th {\n",
       "        vertical-align: top;\n",
       "    }\n",
       "\n",
       "    .dataframe thead th {\n",
       "        text-align: right;\n",
       "    }\n",
       "</style>\n",
       "<table border=\"1\" class=\"dataframe\">\n",
       "  <thead>\n",
       "    <tr style=\"text-align: right;\">\n",
       "      <th></th>\n",
       "      <th>AIRPORT</th>\n",
       "      <th>TAXI_OUT_mean</th>\n",
       "      <th>TAXI_IN_mean</th>\n",
       "    </tr>\n",
       "  </thead>\n",
       "  <tbody>\n",
       "    <tr>\n",
       "      <th>0</th>\n",
       "      <td>Aberdeen Regional Airport</td>\n",
       "      <td>16.600302</td>\n",
       "      <td>18.350376</td>\n",
       "    </tr>\n",
       "    <tr>\n",
       "      <th>1</th>\n",
       "      <td>Abilene Regional Airport</td>\n",
       "      <td>9.188004</td>\n",
       "      <td>15.114850</td>\n",
       "    </tr>\n",
       "    <tr>\n",
       "      <th>2</th>\n",
       "      <td>Abraham Lincoln Capital Airport</td>\n",
       "      <td>12.863995</td>\n",
       "      <td>19.505898</td>\n",
       "    </tr>\n",
       "    <tr>\n",
       "      <th>3</th>\n",
       "      <td>Adak Airport</td>\n",
       "      <td>8.179775</td>\n",
       "      <td>11.573034</td>\n",
       "    </tr>\n",
       "    <tr>\n",
       "      <th>4</th>\n",
       "      <td>Akron-Canton Regional Airport</td>\n",
       "      <td>13.340333</td>\n",
       "      <td>16.606738</td>\n",
       "    </tr>\n",
       "    <tr>\n",
       "      <th>...</th>\n",
       "      <td>...</td>\n",
       "      <td>...</td>\n",
       "      <td>...</td>\n",
       "    </tr>\n",
       "    <tr>\n",
       "      <th>317</th>\n",
       "      <td>Yakutat Airport</td>\n",
       "      <td>7.919330</td>\n",
       "      <td>11.842266</td>\n",
       "    </tr>\n",
       "    <tr>\n",
       "      <th>318</th>\n",
       "      <td>Yampa Valley Airport (Yampa Valley Regional)</td>\n",
       "      <td>17.448326</td>\n",
       "      <td>18.114162</td>\n",
       "    </tr>\n",
       "    <tr>\n",
       "      <th>319</th>\n",
       "      <td>Yeager Airport</td>\n",
       "      <td>14.189166</td>\n",
       "      <td>18.316760</td>\n",
       "    </tr>\n",
       "    <tr>\n",
       "      <th>320</th>\n",
       "      <td>Yellowstone Regional Airport</td>\n",
       "      <td>17.842266</td>\n",
       "      <td>20.298326</td>\n",
       "    </tr>\n",
       "    <tr>\n",
       "      <th>321</th>\n",
       "      <td>Yuma International Airport</td>\n",
       "      <td>14.348436</td>\n",
       "      <td>19.887634</td>\n",
       "    </tr>\n",
       "  </tbody>\n",
       "</table>\n",
       "<p>322 rows × 3 columns</p>\n",
       "</div>"
      ],
      "text/plain": [
       "                                          AIRPORT  TAXI_OUT_mean  TAXI_IN_mean\n",
       "0                       Aberdeen Regional Airport      16.600302     18.350376\n",
       "1                        Abilene Regional Airport       9.188004     15.114850\n",
       "2                 Abraham Lincoln Capital Airport      12.863995     19.505898\n",
       "3                                    Adak Airport       8.179775     11.573034\n",
       "4                   Akron-Canton Regional Airport      13.340333     16.606738\n",
       "..                                            ...            ...           ...\n",
       "317                               Yakutat Airport       7.919330     11.842266\n",
       "318  Yampa Valley Airport (Yampa Valley Regional)      17.448326     18.114162\n",
       "319                                Yeager Airport      14.189166     18.316760\n",
       "320                  Yellowstone Regional Airport      17.842266     20.298326\n",
       "321                    Yuma International Airport      14.348436     19.887634\n",
       "\n",
       "[322 rows x 3 columns]"
      ]
     },
     "execution_count": 325,
     "metadata": {},
     "output_type": "execute_result"
    }
   ],
   "source": [
    "final_joined_df=pd.merge(grouped_joined_flights_airports, grouped_joined_flights_airports2, on = 'AIRPORT', how = 'inner')\n",
    "\n",
    "final_joined_df"
   ]
  },
  {
   "cell_type": "code",
   "execution_count": 326,
   "metadata": {},
   "outputs": [
    {
     "name": "stdout",
     "output_type": "stream",
     "text": [
      "Аэропорт где самолеты проводят больше всего времени на рулении': LaGuardia Airport (Marine Air Terminal), \n",
      "Время: 45.065798556151286\n"
     ]
    }
   ],
   "source": [
    "taxiing = max([sum(i) for i in zip(final_joined_df['TAXI_OUT_mean'],final_joined_df['TAXI_IN_mean'])])\n",
    "taxiing2 = [sum(i) for i in zip(final_joined_df['TAXI_OUT_mean'],final_joined_df['TAXI_IN_mean'])]\n",
    "taxiing_index = taxiing2.index(taxiing)\n",
    "\n",
    "print(f\"Аэропорт где самолеты проводят больше всего времени на рулении': {final_joined_df['AIRPORT'][taxiing_index]}, \\nВремя: {taxiing}\")"
   ]
  }
 ],
 "metadata": {
  "kernelspec": {
   "display_name": "Python 3",
   "language": "python",
   "name": "python3"
  },
  "language_info": {
   "codemirror_mode": {
    "name": "ipython",
    "version": 3
   },
   "file_extension": ".py",
   "mimetype": "text/x-python",
   "name": "python",
   "nbconvert_exporter": "python",
   "pygments_lexer": "ipython3",
   "version": "3.11.1"
  },
  "orig_nbformat": 4,
  "vscode": {
   "interpreter": {
    "hash": "1cb80c8b379d051ae098898e80913c7f6229ea89c9e96f5276f3ef2e3c91e64e"
   }
  }
 },
 "nbformat": 4,
 "nbformat_minor": 2
}
